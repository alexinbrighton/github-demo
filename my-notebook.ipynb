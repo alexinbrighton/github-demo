{
  "cells": [
    {
      "cell_type": "markdown",
      "metadata": {
        "id": "6Ibc-tuRjcTf"
      },
      "source": [
        "# Example notebook\n"
      ]
    },
    {
      "cell_type": "code",
      "execution_count": null,
      "metadata": {
        "id": "-bcSjewRjcTg"
      },
      "outputs": [],
      "source": [
        "import pandas as pd\n",
        "import numpy as np\n",
        "import seaborn as sns"
      ]
    },
    {
      "cell_type": "code",
      "execution_count": null,
      "metadata": {
        "id": "Ehsfb9aSjcTg"
      },
      "outputs": [],
      "source": []
    },
    {
      "cell_type": "markdown",
      "source": [
        "Random comment\n"
      ],
      "metadata": {
        "id": "fWUc8PSCjeoI"
      }
    },
    {
      "cell_type": "markdown",
      "metadata": {
        "id": "yrkxJzEejcTg"
      },
      "source": [
        "Imported libraries\n"
      ]
    }
  ],
  "metadata": {
    "kernelspec": {
      "display_name": "base",
      "language": "python",
      "name": "python3"
    },
    "language_info": {
      "codemirror_mode": {
        "name": "ipython",
        "version": 3
      },
      "file_extension": ".py",
      "mimetype": "text/x-python",
      "name": "python",
      "nbconvert_exporter": "python",
      "pygments_lexer": "ipython3",
      "version": "3.12.7"
    },
    "colab": {
      "provenance": []
    }
  },
  "nbformat": 4,
  "nbformat_minor": 0
}